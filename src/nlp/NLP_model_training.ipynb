{
 "cells": [
  {
   "cell_type": "code",
   "execution_count": 3,
   "metadata": {},
   "outputs": [
    {
     "name": "stdout",
     "output_type": "stream",
     "text": [
      "Using device: cuda\n"
     ]
    }
   ],
   "source": [
    "import pandas as pd\n",
    "import numpy as np\n",
    "import matplotlib.pyplot as plt\n",
    "import torch\n",
    "from torch import nn\n",
    "import torch.nn as nn\n",
    "from sklearn.model_selection import train_test_split\n",
    "from datasets import Dataset\n",
    "from transformers import DistilBertTokenizerFast\n",
    "from transformers import BertTokenizerFast, BertForSequenceClassification, TrainingArguments, Trainer, EarlyStoppingCallback\n",
    "from sklearn.utils.class_weight import compute_class_weight\n",
    "from transformers import DistilBertForSequenceClassification\n",
    "from transformers.modeling_outputs import SequenceClassifierOutput\n",
    "import evaluate\n",
    "from transformers import AutoTokenizer\n",
    "\n",
    "device = torch.device(\"cuda\" if torch.cuda.is_available() else \"cpu\")\n",
    "print(f\"Using device: {device}\")"
   ]
  },
  {
   "cell_type": "markdown",
   "metadata": {},
   "source": [
    "#### Loading and preprocessing the data"
   ]
  },
  {
   "cell_type": "code",
   "execution_count": 4,
   "metadata": {},
   "outputs": [],
   "source": [
    "train = pd.read_csv(r\"D:\\Data Science Projects\\AI Emotion Analysis\\data\\train_upsampled.csv\")\n",
    "train = train.drop_duplicates(subset=['text'])\n",
    "val = pd.read_csv(r\"D:\\Data Science Projects\\AI Emotion Analysis\\data\\val.csv\")\n",
    "test = pd.read_csv(r\"D:\\Data Science Projects\\AI Emotion Analysis\\data\\test.csv\")"
   ]
  },
  {
   "cell_type": "markdown",
   "metadata": {},
   "source": [
    "### Preprocessing the data"
   ]
  },
  {
   "cell_type": "code",
   "execution_count": 5,
   "metadata": {},
   "outputs": [
    {
     "name": "stdout",
     "output_type": "stream",
     "text": [
      "Train: 429858 samples\n",
      "Validation: 45785 samples\n",
      "Test: 50872 samples\n"
     ]
    }
   ],
   "source": [
    "# emotion label mapping\n",
    "emotion_labels = { \n",
    "    \"Anger\": 0, \"Fear\": 1, \"Happy\": 2, \"Sadness\": 3, \n",
    "    \"Neutral\": 4, \"Surprise\": 5, \"Confusion\": 6, \"Disgust\": 7 \n",
    "}\n",
    "\n",
    "# mapping emotion labels to integers\n",
    "train[\"label\"] = train[\"emotion\"].map(emotion_labels)\n",
    "val[\"label\"] = val[\"emotion\"].map(emotion_labels)\n",
    "test[\"label\"] = test[\"emotion\"].map(emotion_labels)\n",
    "\n",
    "# Dropping any NA values\n",
    "train = train.dropna(subset=[\"text\", \"label\"]).reset_index(drop=True)\n",
    "val = val.dropna(subset=[\"text\", \"label\"]).reset_index(drop=True)\n",
    "test = test.dropna(subset=[\"text\", \"label\"]).reset_index(drop=True)\n",
    "\n",
    "# Convert text column to strings\n",
    "train[\"text\"] = train[\"text\"].astype(str)\n",
    "val[\"text\"] = val[\"text\"].astype(str)\n",
    "test[\"text\"] = test[\"text\"].astype(str)\n",
    "\n",
    "# Extract lists of texts and labels\n",
    "train_texts = train[\"text\"].tolist()\n",
    "train_labels = train[\"label\"].tolist()\n",
    "\n",
    "val_texts = val[\"text\"].tolist()\n",
    "val_labels = val[\"label\"].tolist()\n",
    "\n",
    "test_texts = test[\"text\"].tolist()\n",
    "test_labels = test[\"label\"].tolist()\n",
    "\n",
    "print(f\"Train: {len(train_texts)} samples\")\n",
    "print(f\"Validation: {len(val_texts)} samples\")\n",
    "print(f\"Test: {len(test_texts)} samples\")"
   ]
  },
  {
   "cell_type": "code",
   "execution_count": 6,
   "metadata": {},
   "outputs": [
    {
     "name": "stdout",
     "output_type": "stream",
     "text": [
      "Class distribution after oversampling:\n",
      "Counter({2: 128849, 3: 101300, 4: 82963, 0: 49822, 1: 41952, 5: 11284, 7: 6927, 6: 6761})\n"
     ]
    }
   ],
   "source": [
    "from collections import Counter\n",
    "\n",
    "print(\"Class distribution after oversampling:\")\n",
    "print(Counter(train_labels))"
   ]
  },
  {
   "cell_type": "markdown",
   "metadata": {},
   "source": [
    "### DistilBERT Model"
   ]
  },
  {
   "cell_type": "code",
   "execution_count": null,
   "metadata": {},
   "outputs": [],
   "source": [
    "tokenizer = DistilBertTokenizerFast.from_pretrained(\"distilbert-base-uncased\")\n",
    "def tokenize_data(texts):\n",
    "    return tokenizer(texts, padding=\"max_length\", truncation=True, max_length=128)\n",
    "\n",
    "train_encodings = tokenize_data(train_texts)\n",
    "val_encodings = tokenize_data(val_texts)\n",
    "test_encodings = tokenize_data(test_texts)\n",
    "\n",
    "train_dataset = Dataset.from_dict({\"input_ids\": train_encodings[\"input_ids\"], \"attention_mask\": train_encodings[\"attention_mask\"], \"labels\": train_labels})\n",
    "val_dataset = Dataset.from_dict({\"input_ids\": val_encodings[\"input_ids\"], \"attention_mask\": val_encodings[\"attention_mask\"], \"labels\": val_labels})\n",
    "test_dataset = Dataset.from_dict({\"input_ids\": test_encodings[\"input_ids\"], \"attention_mask\": test_encodings[\"attention_mask\"], \"labels\": test_labels})"
   ]
  },
  {
   "cell_type": "code",
   "execution_count": null,
   "metadata": {},
   "outputs": [],
   "source": [
    "class_weights = compute_class_weight(\n",
    "    class_weight='balanced',\n",
    "    classes=np.unique(train['label']),\n",
    "    y=train['label']\n",
    ")\n",
    "class_weights = torch.tensor(class_weights, dtype=torch.float).to(\"cuda\")"
   ]
  },
  {
   "cell_type": "code",
   "execution_count": null,
   "metadata": {},
   "outputs": [],
   "source": [
    "class WeightedDistilBERT(nn.Module):\n",
    "    def __init__(self, model_name, num_labels, class_weights):\n",
    "        super(WeightedDistilBERT, self).__init__()\n",
    "        self.num_labels = num_labels\n",
    "        self.model = DistilBertForSequenceClassification.from_pretrained(model_name, num_labels=num_labels)\n",
    "        self.loss_fn = nn.CrossEntropyLoss(weight=class_weights)\n",
    "\n",
    "    def forward(self, input_ids, attention_mask, labels=None):\n",
    "        # Get outputs from the base model\n",
    "        outputs = self.model(input_ids=input_ids, attention_mask=attention_mask)\n",
    "        \n",
    "        # Extract logits\n",
    "        logits = outputs.logits\n",
    "\n",
    "        # Compute loss if labels are provided\n",
    "        loss = None\n",
    "        if labels is not None:\n",
    "            loss = self.loss_fn(logits.view(-1, self.num_labels), labels.view(-1))\n",
    "\n",
    "        # Return the model output in the expected format\n",
    "        return SequenceClassifierOutput(\n",
    "            loss=loss,\n",
    "            logits=logits\n",
    "        )"
   ]
  },
  {
   "cell_type": "code",
   "execution_count": null,
   "metadata": {},
   "outputs": [
    {
     "name": "stderr",
     "output_type": "stream",
     "text": [
      "Some weights of DistilBertForSequenceClassification were not initialized from the model checkpoint at distilbert-base-uncased and are newly initialized: ['classifier.bias', 'classifier.weight', 'pre_classifier.bias', 'pre_classifier.weight']\n",
      "You should probably TRAIN this model on a down-stream task to be able to use it for predictions and inference.\n"
     ]
    }
   ],
   "source": [
    "device = torch.device(\"cuda\" if torch.cuda.is_available() else \"cpu\")\n",
    "model_name = \"distilbert-base-uncased\"\n",
    "num_labels = len(np.unique(train['label']))\n",
    "\n",
    "\n",
    "model = WeightedDistilBERT(model_name, num_labels=num_labels, class_weights=class_weights).to(device)"
   ]
  },
  {
   "cell_type": "code",
   "execution_count": null,
   "metadata": {},
   "outputs": [
    {
     "name": "stderr",
     "output_type": "stream",
     "text": [
      "c:\\Users\\aliir\\anaconda3\\envs\\py310\\lib\\site-packages\\transformers\\training_args.py:1594: FutureWarning: `evaluation_strategy` is deprecated and will be removed in version 4.46 of 🤗 Transformers. Use `eval_strategy` instead\n",
      "  warnings.warn(\n",
      "C:\\Users\\aliir\\AppData\\Local\\Temp\\ipykernel_42392\\1289792415.py:22: FutureWarning: `tokenizer` is deprecated and will be removed in version 5.0.0 for `Trainer.__init__`. Use `processing_class` instead.\n",
      "  trainer = Trainer(\n"
     ]
    }
   ],
   "source": [
    "training_args = TrainingArguments(\n",
    "    output_dir=\"./results\",  \n",
    "    evaluation_strategy=\"epoch\",  \n",
    "    save_strategy=\"epoch\",  \n",
    "    logging_strategy=\"epoch\",  \n",
    "    logging_dir=\"./logs\",  \n",
    "    logging_steps=10,  \n",
    "    learning_rate=1e-5,  \n",
    "    per_device_train_batch_size=32,  \n",
    "    per_device_eval_batch_size=32,  \n",
    "    num_train_epochs=4,  \n",
    "    weight_decay=0.05,  \n",
    "    max_grad_norm=1.0,  \n",
    "    load_best_model_at_end=True,  \n",
    "    disable_tqdm=False,  \n",
    "    report_to=\"none\",  \n",
    "    lr_scheduler_type=\"linear\",  \n",
    "    warmup_steps=500,  \n",
    "    fp16=True,  \n",
    ")\n",
    "\n",
    "trainer = Trainer(\n",
    "    model=model,\n",
    "    args=training_args,\n",
    "    train_dataset=train_dataset,\n",
    "    eval_dataset=val_dataset,    \n",
    "    tokenizer=tokenizer,     \n",
    "    callbacks=[EarlyStoppingCallback(early_stopping_patience=3)]\n",
    ")"
   ]
  },
  {
   "cell_type": "code",
   "execution_count": 60,
   "metadata": {},
   "outputs": [
    {
     "data": {
      "text/html": [
       "\n",
       "    <div>\n",
       "      \n",
       "      <progress value='53736' max='53736' style='width:300px; height:20px; vertical-align: middle;'></progress>\n",
       "      [53736/53736 1:26:00, Epoch 4/4]\n",
       "    </div>\n",
       "    <table border=\"1\" class=\"dataframe\">\n",
       "  <thead>\n",
       " <tr style=\"text-align: left;\">\n",
       "      <th>Epoch</th>\n",
       "      <th>Training Loss</th>\n",
       "      <th>Validation Loss</th>\n",
       "    </tr>\n",
       "  </thead>\n",
       "  <tbody>\n",
       "    <tr>\n",
       "      <td>1</td>\n",
       "      <td>0.447000</td>\n",
       "      <td>0.263121</td>\n",
       "    </tr>\n",
       "    <tr>\n",
       "      <td>2</td>\n",
       "      <td>0.268100</td>\n",
       "      <td>0.259329</td>\n",
       "    </tr>\n",
       "    <tr>\n",
       "      <td>3</td>\n",
       "      <td>0.209800</td>\n",
       "      <td>0.243414</td>\n",
       "    </tr>\n",
       "    <tr>\n",
       "      <td>4</td>\n",
       "      <td>0.175000</td>\n",
       "      <td>0.239064</td>\n",
       "    </tr>\n",
       "  </tbody>\n",
       "</table><p>"
      ],
      "text/plain": [
       "<IPython.core.display.HTML object>"
      ]
     },
     "metadata": {},
     "output_type": "display_data"
    },
    {
     "data": {
      "text/plain": [
       "TrainOutput(global_step=53736, training_loss=0.274960734685546, metrics={'train_runtime': 5161.2051, 'train_samples_per_second': 333.145, 'train_steps_per_second': 10.412, 'total_flos': 0.0, 'train_loss': 0.274960734685546, 'epoch': 4.0})"
      ]
     },
     "execution_count": 60,
     "metadata": {},
     "output_type": "execute_result"
    }
   ],
   "source": [
    "trainer.train()"
   ]
  },
  {
   "cell_type": "code",
   "execution_count": null,
   "metadata": {},
   "outputs": [
    {
     "data": {
      "image/png": "[encoded data removed]",
      "text/plain": [
       "<Figure size 640x480 with 1 Axes>"
      ]
     },
     "metadata": {},
     "output_type": "display_data"
    }
   ],
   "source": [
    "train_losses = trainer.state.log_history\n",
    "val_losses = [log['eval_loss'] for log in train_losses if 'eval_loss' in log]\n",
    "epochs = range(1, len(val_losses) + 1)\n",
    "\n",
    "plt.plot(epochs, [log['loss'] for log in train_losses if 'loss' in log], label='Training Loss')\n",
    "plt.plot(epochs, val_losses, label='Validation Loss')\n",
    "plt.xlabel('Epochs')\n",
    "plt.ylabel('Loss')\n",
    "plt.legend()\n",
    "plt.title('Training vs. Validation Loss')\n",
    "plt.show()"
   ]
  },
  {
   "cell_type": "code",
   "execution_count": null,
   "metadata": {},
   "outputs": [
    {
     "data": {
      "text/html": [],
      "text/plain": [
       "<IPython.core.display.HTML object>"
      ]
     },
     "metadata": {},
     "output_type": "display_data"
    },
    {
     "name": "stdout",
     "output_type": "stream",
     "text": [
      "Accuracy: 0.9329\n",
      "Precision: 0.9377\n",
      "Recall: 0.9329\n",
      "F1 Score: 0.9337\n"
     ]
    }
   ],
   "source": [
    "# Load test dataset predictions\n",
    "predictions = trainer.predict(test_dataset)\n",
    "preds = torch.argmax(torch.tensor(predictions.predictions), dim=1).numpy()\n",
    "labels = predictions.label_ids\n",
    "\n",
    "# Loading metrics using the evaluate library\n",
    "accuracy_metric = evaluate.load(\"accuracy\")\n",
    "precision_metric = evaluate.load(\"precision\")\n",
    "recall_metric = evaluate.load(\"recall\")\n",
    "f1_metric = evaluate.load(\"f1\")\n",
    "\n",
    "# Compute evaluation metrics\n",
    "accuracy = accuracy_metric.compute(predictions=preds, references=labels)\n",
    "precision = precision_metric.compute(predictions=preds, references=labels, average=\"weighted\")\n",
    "recall = recall_metric.compute(predictions=preds, references=labels, average=\"weighted\")\n",
    "f1 = f1_metric.compute(predictions=preds, references=labels, average=\"weighted\")\n",
    "\n",
    "print(f\"Accuracy: {accuracy['accuracy']:.4f}\")\n",
    "print(f\"Precision: {precision['precision']:.4f}\")\n",
    "print(f\"Recall: {recall['recall']:.4f}\")\n",
    "print(f\"F1 Score: {f1['f1']:.4f}\")\n"
   ]
  },
  {
   "cell_type": "code",
   "execution_count": 63,
   "metadata": {},
   "outputs": [
    {
     "name": "stdout",
     "output_type": "stream",
     "text": [
      "\n",
      "Classification Report:\n",
      "              precision    recall  f1-score   support\n",
      "\n",
      "       Anger       0.96      0.90      0.93      6378\n",
      "        Fear       0.90      0.98      0.94      4752\n",
      "       Happy       0.98      0.90      0.94     16317\n",
      "     Sadness       0.98      0.97      0.97     12414\n",
      "     Neutral       0.83      0.95      0.89      9335\n",
      "    Surprise       0.84      0.83      0.84      1421\n",
      "   Confusion       0.69      0.75      0.72       154\n",
      "     Disgust       0.57      0.80      0.66       101\n",
      "\n",
      "    accuracy                           0.93     50872\n",
      "   macro avg       0.84      0.89      0.86     50872\n",
      "weighted avg       0.94      0.93      0.93     50872\n",
      "\n"
     ]
    }
   ],
   "source": [
    "from sklearn.metrics import classification_report\n",
    "\n",
    "target_names = {v: k for k, v in emotion_labels.items()} \n",
    "target_names = [target_names[label] for label in sorted(target_names.keys())]\n",
    "\n",
    "report = classification_report(labels, preds, target_names=target_names)\n",
    "print(\"\\nClassification Report:\")\n",
    "print(report)"
   ]
  },
  {
   "cell_type": "code",
   "execution_count": 64,
   "metadata": {},
   "outputs": [
    {
     "data": {
      "image/png": "[encoded data removed]",
      "text/plain": [
       "<Figure size 1000x800 with 2 Axes>"
      ]
     },
     "metadata": {},
     "output_type": "display_data"
    }
   ],
   "source": [
    "import matplotlib.pyplot as plt\n",
    "import seaborn as sns\n",
    "from sklearn.metrics import confusion_matrix\n",
    "\n",
    "# Compute the confusion matrix\n",
    "cm = confusion_matrix(labels, preds)\n",
    "\n",
    "# Create a heatmap for the confusion matrix\n",
    "plt.figure(figsize=(10, 8))\n",
    "sns.heatmap(cm, annot=True, fmt=\"d\", cmap=\"Blues\", xticklabels=target_names, yticklabels=target_names)\n",
    "plt.xlabel('Predicted Labels')\n",
    "plt.ylabel('True Labels')\n",
    "plt.title('Confusion Matrix')\n",
    "plt.show()"
   ]
  },
  {
   "cell_type": "code",
   "execution_count": null,
   "metadata": {},
   "outputs": [],
   "source": [
    "import torch\n",
    "\n",
    "def save_custom_model(model, path):\n",
    "    torch.save({\n",
    "        'model_state_dict': model.state_dict(),\n",
    "        'class_weights': model.loss_fn.weight \n",
    "    }, path)\n",
    "\n",
    "save_custom_model(model, \"./best_model/custom_model_weighted_distilBERT.pth\")\n",
    "tokenizer.save_pretrained(\"./best_model\")"
   ]
  },
  {
   "cell_type": "code",
   "execution_count": 68,
   "metadata": {},
   "outputs": [
    {
     "data": {
      "text/plain": [
       "('./best_model\\\\tokenizer_config.json',\n",
       " './best_model\\\\special_tokens_map.json',\n",
       " './best_model\\\\vocab.txt',\n",
       " './best_model\\\\added_tokens.json',\n",
       " './best_model\\\\tokenizer.json')"
      ]
     },
     "execution_count": 68,
     "metadata": {},
     "output_type": "execute_result"
    }
   ],
   "source": [
    "tokenizer.save_pretrained(\"./best_model\")"
   ]
  },
  {
   "cell_type": "code",
   "execution_count": null,
   "metadata": {},
   "outputs": [
    {
     "name": "stderr",
     "output_type": "stream",
     "text": [
      "Some weights of DistilBertForSequenceClassification were not initialized from the model checkpoint at distilbert-base-uncased and are newly initialized: ['classifier.bias', 'classifier.weight', 'pre_classifier.bias', 'pre_classifier.weight']\n",
      "You should probably TRAIN this model on a down-stream task to be able to use it for predictions and inference.\n"
     ]
    },
    {
     "name": "stdout",
     "output_type": "stream",
     "text": [
      "Predicted class: 7\n",
      "Predicted emotion: Disgust\n"
     ]
    }
   ],
   "source": [
    "def load_custom_model(model_class, model_path, model_name, num_labels):\n",
    "    checkpoint = torch.load(model_path)  \n",
    "    model = model_class(model_name, num_labels, checkpoint['class_weights'])  \n",
    "    model.load_state_dict(checkpoint['model_state_dict'])  \n",
    "    return model\n",
    "\n",
    "def predict(text, model, tokenizer, device, max_length=512):\n",
    "    encoding = tokenizer(text, padding=True, truncation=True, max_length=max_length, return_tensors='pt')\n",
    "    \n",
    "    input_ids = encoding['input_ids'].to(device)\n",
    "    attention_mask = encoding['attention_mask'].to(device)\n",
    "\n",
    "    model.eval()\n",
    "    model.to(device)\n",
    "\n",
    "    with torch.no_grad():\n",
    "        outputs = model(input_ids=input_ids, attention_mask=attention_mask)\n",
    "    \n",
    "    logits = outputs.logits\n",
    "    predicted_class = torch.argmax(logits, dim=1).item()\n",
    "\n",
    "    return predicted_class\n",
    "\n",
    "device = torch.device(\"cuda\" if torch.cuda.is_available() else \"cpu\")\n",
    "\n",
    "\n",
    "model = load_custom_model(WeightedDistilBERT, \"./best_model_DISTILBERT/custom_model_weighted_distilBERT.pth\", model_name=\"distilbert-base-uncased\", num_labels=8)\n",
    "tokenizer = AutoTokenizer.from_pretrained(\"./best_model_DISTILBERT\")\n",
    "\n",
    "model = model.to(device)\n",
    "\n",
    "text = \"The smell of that food was so awful, I could barely stand to be in the room.\"\n",
    "\n",
    "predicted_class = predict(text, model, tokenizer, device, max_length=512)\n",
    "print(f\"Predicted class: {predicted_class}\")\n",
    "\n",
    "reverse_emotion_labels = {v: k for k, v in emotion_labels.items()}\n",
    "\n",
    "predicted_emotion = reverse_emotion_labels[predicted_class]\n",
    "print(f\"Predicted emotion: {predicted_emotion}\")"
   ]
  },
  {
   "cell_type": "code",
   "execution_count": null,
   "metadata": {},
   "outputs": [
    {
     "name": "stdout",
     "output_type": "stream",
     "text": [
      "Predicted class: 3\n",
      "Predicted emotion: Sadness\n"
     ]
    }
   ],
   "source": [
    "text = \"i was beginning to feel quite disheartened\"\n",
    "\n",
    "predicted_class = predict(text, model, tokenizer, device, max_length=512)\n",
    "print(f\"Predicted class: {predicted_class}\")\n",
    "\n",
    "reverse_emotion_labels = {v: k for k, v in emotion_labels.items()}\n",
    "\n",
    "predicted_emotion = reverse_emotion_labels[predicted_class]\n",
    "print(f\"Predicted emotion: {predicted_emotion}\")"
   ]
  },
  {
   "cell_type": "code",
   "execution_count": 102,
   "metadata": {},
   "outputs": [],
   "source": [
    "df_data = pd.read_csv(\"D:\\Data Science Projects\\AI Emotion Analysis\\data\\emotion_dataset_to_check_model.csv\")"
   ]
  },
  {
   "cell_type": "code",
   "execution_count": 103,
   "metadata": {},
   "outputs": [
    {
     "data": {
      "text/html": [
       "<div>\n",
       "<style scoped>\n",
       "    .dataframe tbody tr th:only-of-type {\n",
       "        vertical-align: middle;\n",
       "    }\n",
       "\n",
       "    .dataframe tbody tr th {\n",
       "        vertical-align: top;\n",
       "    }\n",
       "\n",
       "    .dataframe thead th {\n",
       "        text-align: right;\n",
       "    }\n",
       "</style>\n",
       "<table border=\"1\" class=\"dataframe\">\n",
       "  <thead>\n",
       "    <tr style=\"text-align: right;\">\n",
       "      <th></th>\n",
       "      <th>Text</th>\n",
       "      <th>Emotion</th>\n",
       "    </tr>\n",
       "  </thead>\n",
       "  <tbody>\n",
       "    <tr>\n",
       "      <th>0</th>\n",
       "      <td>I've been feeling really good lately, like eve...</td>\n",
       "      <td>Happy</td>\n",
       "    </tr>\n",
       "    <tr>\n",
       "      <th>1</th>\n",
       "      <td>I finally got the job I always wanted, and I c...</td>\n",
       "      <td>Happy</td>\n",
       "    </tr>\n",
       "    <tr>\n",
       "      <th>2</th>\n",
       "      <td>Spending time with my family this weekend was ...</td>\n",
       "      <td>Happy</td>\n",
       "    </tr>\n",
       "    <tr>\n",
       "      <th>3</th>\n",
       "      <td>I try to stay positive, but some days it just ...</td>\n",
       "      <td>Sadness</td>\n",
       "    </tr>\n",
       "    <tr>\n",
       "      <th>4</th>\n",
       "      <td>Ever since they left, it feels like a part of ...</td>\n",
       "      <td>Sadness</td>\n",
       "    </tr>\n",
       "    <tr>\n",
       "      <th>5</th>\n",
       "      <td>I keep thinking about all the mistakes I’ve ma...</td>\n",
       "      <td>Sadness</td>\n",
       "    </tr>\n",
       "    <tr>\n",
       "      <th>6</th>\n",
       "      <td>I can't believe they betrayed my trust like that!</td>\n",
       "      <td>Anger</td>\n",
       "    </tr>\n",
       "    <tr>\n",
       "      <th>7</th>\n",
       "      <td>Every time I try to explain myself, no one lis...</td>\n",
       "      <td>Anger</td>\n",
       "    </tr>\n",
       "    <tr>\n",
       "      <th>8</th>\n",
       "      <td>I did everything right, and yet I’m the one wh...</td>\n",
       "      <td>Anger</td>\n",
       "    </tr>\n",
       "    <tr>\n",
       "      <th>9</th>\n",
       "      <td>I keep having this sinking feeling that someth...</td>\n",
       "      <td>Fear</td>\n",
       "    </tr>\n",
       "    <tr>\n",
       "      <th>10</th>\n",
       "      <td>Every time I close my eyes, I see the accident...</td>\n",
       "      <td>Fear</td>\n",
       "    </tr>\n",
       "    <tr>\n",
       "      <th>11</th>\n",
       "      <td>I don't feel safe going outside alone anymore.</td>\n",
       "      <td>Fear</td>\n",
       "    </tr>\n",
       "    <tr>\n",
       "      <th>12</th>\n",
       "      <td>I never expected them to throw me a surprise p...</td>\n",
       "      <td>Surprise</td>\n",
       "    </tr>\n",
       "    <tr>\n",
       "      <th>13</th>\n",
       "      <td>Wait, you’re telling me they actually forgave ...</td>\n",
       "      <td>Surprise</td>\n",
       "    </tr>\n",
       "    <tr>\n",
       "      <th>14</th>\n",
       "      <td>I just got a call that I won the scholarship. ...</td>\n",
       "      <td>Surprise</td>\n",
       "    </tr>\n",
       "    <tr>\n",
       "      <th>15</th>\n",
       "      <td>The way they treated that poor animal made me ...</td>\n",
       "      <td>Disgust</td>\n",
       "    </tr>\n",
       "    <tr>\n",
       "      <th>16</th>\n",
       "      <td>I can't stand being around people who manipula...</td>\n",
       "      <td>Disgust</td>\n",
       "    </tr>\n",
       "    <tr>\n",
       "      <th>17</th>\n",
       "      <td>That place was so filthy, I felt like I needed...</td>\n",
       "      <td>Disgust</td>\n",
       "    </tr>\n",
       "    <tr>\n",
       "      <th>18</th>\n",
       "      <td>I went to the grocery store and picked up some...</td>\n",
       "      <td>Neutral</td>\n",
       "    </tr>\n",
       "    <tr>\n",
       "      <th>19</th>\n",
       "      <td>It was an average day, nothing really stood out.</td>\n",
       "      <td>Neutral</td>\n",
       "    </tr>\n",
       "    <tr>\n",
       "      <th>20</th>\n",
       "      <td>I have a meeting tomorrow at noon.</td>\n",
       "      <td>Neutral</td>\n",
       "    </tr>\n",
       "    <tr>\n",
       "      <th>21</th>\n",
       "      <td>I don’t understand why they would do something...</td>\n",
       "      <td>Confusion</td>\n",
       "    </tr>\n",
       "    <tr>\n",
       "      <th>22</th>\n",
       "      <td>Everything seemed fine, but then they just sto...</td>\n",
       "      <td>Confusion</td>\n",
       "    </tr>\n",
       "    <tr>\n",
       "      <th>23</th>\n",
       "      <td>I keep going over what happened, but it just d...</td>\n",
       "      <td>Confusion</td>\n",
       "    </tr>\n",
       "  </tbody>\n",
       "</table>\n",
       "</div>"
      ],
      "text/plain": [
       "                                                 Text    Emotion\n",
       "0   I've been feeling really good lately, like eve...      Happy\n",
       "1   I finally got the job I always wanted, and I c...      Happy\n",
       "2   Spending time with my family this weekend was ...      Happy\n",
       "3   I try to stay positive, but some days it just ...    Sadness\n",
       "4   Ever since they left, it feels like a part of ...    Sadness\n",
       "5   I keep thinking about all the mistakes I’ve ma...    Sadness\n",
       "6   I can't believe they betrayed my trust like that!      Anger\n",
       "7   Every time I try to explain myself, no one lis...      Anger\n",
       "8   I did everything right, and yet I’m the one wh...      Anger\n",
       "9   I keep having this sinking feeling that someth...       Fear\n",
       "10  Every time I close my eyes, I see the accident...       Fear\n",
       "11     I don't feel safe going outside alone anymore.       Fear\n",
       "12  I never expected them to throw me a surprise p...   Surprise\n",
       "13  Wait, you’re telling me they actually forgave ...   Surprise\n",
       "14  I just got a call that I won the scholarship. ...   Surprise\n",
       "15  The way they treated that poor animal made me ...    Disgust\n",
       "16  I can't stand being around people who manipula...    Disgust\n",
       "17  That place was so filthy, I felt like I needed...    Disgust\n",
       "18  I went to the grocery store and picked up some...    Neutral\n",
       "19   It was an average day, nothing really stood out.    Neutral\n",
       "20                 I have a meeting tomorrow at noon.    Neutral\n",
       "21  I don’t understand why they would do something...  Confusion\n",
       "22  Everything seemed fine, but then they just sto...  Confusion\n",
       "23  I keep going over what happened, but it just d...  Confusion"
      ]
     },
     "execution_count": 103,
     "metadata": {},
     "output_type": "execute_result"
    }
   ],
   "source": [
    "df_data"
   ]
  },
  {
   "cell_type": "code",
   "execution_count": null,
   "metadata": {},
   "outputs": [
    {
     "name": "stdout",
     "output_type": "stream",
     "text": [
      "Model Accuracy: 37.50%\n"
     ]
    }
   ],
   "source": [
    "reverse_emotion_labels = {v: k for k, v in emotion_labels.items()}\n",
    "\n",
    "predictions = []\n",
    "\n",
    "for text in df_data[\"Text\"]:\n",
    "    predicted_class = predict(text, model, tokenizer, device, max_length=512)\n",
    "    predicted_emotion = reverse_emotion_labels[predicted_class]\n",
    "    predictions.append(predicted_emotion)\n",
    "\n",
    "df_data[\"predicted_emotion\"] = predictions\n",
    "\n",
    "df_data[\"correct\"] = df_data[\"Emotion\"] == df_data[\"predicted_emotion\"]\n",
    "\n",
    "accuracy = df_data[\"correct\"].mean()\n",
    "print(f\"Model Accuracy: {accuracy:.2%}\")"
   ]
  },
  {
   "cell_type": "code",
   "execution_count": 107,
   "metadata": {},
   "outputs": [
    {
     "data": {
      "text/html": [
       "<div>\n",
       "<style scoped>\n",
       "    .dataframe tbody tr th:only-of-type {\n",
       "        vertical-align: middle;\n",
       "    }\n",
       "\n",
       "    .dataframe tbody tr th {\n",
       "        vertical-align: top;\n",
       "    }\n",
       "\n",
       "    .dataframe thead th {\n",
       "        text-align: right;\n",
       "    }\n",
       "</style>\n",
       "<table border=\"1\" class=\"dataframe\">\n",
       "  <thead>\n",
       "    <tr style=\"text-align: right;\">\n",
       "      <th></th>\n",
       "      <th>Text</th>\n",
       "      <th>Emotion</th>\n",
       "      <th>predicted_emotion</th>\n",
       "      <th>correct</th>\n",
       "    </tr>\n",
       "  </thead>\n",
       "  <tbody>\n",
       "    <tr>\n",
       "      <th>0</th>\n",
       "      <td>I've been feeling really good lately, like eve...</td>\n",
       "      <td>Happy</td>\n",
       "      <td>Neutral</td>\n",
       "      <td>False</td>\n",
       "    </tr>\n",
       "    <tr>\n",
       "      <th>1</th>\n",
       "      <td>I finally got the job I always wanted, and I c...</td>\n",
       "      <td>Happy</td>\n",
       "      <td>Happy</td>\n",
       "      <td>True</td>\n",
       "    </tr>\n",
       "    <tr>\n",
       "      <th>2</th>\n",
       "      <td>Spending time with my family this weekend was ...</td>\n",
       "      <td>Happy</td>\n",
       "      <td>Happy</td>\n",
       "      <td>True</td>\n",
       "    </tr>\n",
       "    <tr>\n",
       "      <th>3</th>\n",
       "      <td>I try to stay positive, but some days it just ...</td>\n",
       "      <td>Sadness</td>\n",
       "      <td>Neutral</td>\n",
       "      <td>False</td>\n",
       "    </tr>\n",
       "    <tr>\n",
       "      <th>4</th>\n",
       "      <td>Ever since they left, it feels like a part of ...</td>\n",
       "      <td>Sadness</td>\n",
       "      <td>Neutral</td>\n",
       "      <td>False</td>\n",
       "    </tr>\n",
       "    <tr>\n",
       "      <th>5</th>\n",
       "      <td>I keep thinking about all the mistakes I’ve ma...</td>\n",
       "      <td>Sadness</td>\n",
       "      <td>Neutral</td>\n",
       "      <td>False</td>\n",
       "    </tr>\n",
       "    <tr>\n",
       "      <th>6</th>\n",
       "      <td>I can't believe they betrayed my trust like that!</td>\n",
       "      <td>Anger</td>\n",
       "      <td>Surprise</td>\n",
       "      <td>False</td>\n",
       "    </tr>\n",
       "    <tr>\n",
       "      <th>7</th>\n",
       "      <td>Every time I try to explain myself, no one lis...</td>\n",
       "      <td>Anger</td>\n",
       "      <td>Anger</td>\n",
       "      <td>True</td>\n",
       "    </tr>\n",
       "    <tr>\n",
       "      <th>8</th>\n",
       "      <td>I did everything right, and yet I’m the one wh...</td>\n",
       "      <td>Anger</td>\n",
       "      <td>Sadness</td>\n",
       "      <td>False</td>\n",
       "    </tr>\n",
       "    <tr>\n",
       "      <th>9</th>\n",
       "      <td>I keep having this sinking feeling that someth...</td>\n",
       "      <td>Fear</td>\n",
       "      <td>Sadness</td>\n",
       "      <td>False</td>\n",
       "    </tr>\n",
       "    <tr>\n",
       "      <th>10</th>\n",
       "      <td>Every time I close my eyes, I see the accident...</td>\n",
       "      <td>Fear</td>\n",
       "      <td>Neutral</td>\n",
       "      <td>False</td>\n",
       "    </tr>\n",
       "    <tr>\n",
       "      <th>11</th>\n",
       "      <td>I don't feel safe going outside alone anymore.</td>\n",
       "      <td>Fear</td>\n",
       "      <td>Neutral</td>\n",
       "      <td>False</td>\n",
       "    </tr>\n",
       "    <tr>\n",
       "      <th>12</th>\n",
       "      <td>I never expected them to throw me a surprise p...</td>\n",
       "      <td>Surprise</td>\n",
       "      <td>Surprise</td>\n",
       "      <td>True</td>\n",
       "    </tr>\n",
       "    <tr>\n",
       "      <th>13</th>\n",
       "      <td>Wait, you’re telling me they actually forgave ...</td>\n",
       "      <td>Surprise</td>\n",
       "      <td>Neutral</td>\n",
       "      <td>False</td>\n",
       "    </tr>\n",
       "    <tr>\n",
       "      <th>14</th>\n",
       "      <td>I just got a call that I won the scholarship. ...</td>\n",
       "      <td>Surprise</td>\n",
       "      <td>Surprise</td>\n",
       "      <td>True</td>\n",
       "    </tr>\n",
       "    <tr>\n",
       "      <th>15</th>\n",
       "      <td>The way they treated that poor animal made me ...</td>\n",
       "      <td>Disgust</td>\n",
       "      <td>Neutral</td>\n",
       "      <td>False</td>\n",
       "    </tr>\n",
       "    <tr>\n",
       "      <th>16</th>\n",
       "      <td>I can't stand being around people who manipula...</td>\n",
       "      <td>Disgust</td>\n",
       "      <td>Anger</td>\n",
       "      <td>False</td>\n",
       "    </tr>\n",
       "    <tr>\n",
       "      <th>17</th>\n",
       "      <td>That place was so filthy, I felt like I needed...</td>\n",
       "      <td>Disgust</td>\n",
       "      <td>Disgust</td>\n",
       "      <td>True</td>\n",
       "    </tr>\n",
       "    <tr>\n",
       "      <th>18</th>\n",
       "      <td>I went to the grocery store and picked up some...</td>\n",
       "      <td>Neutral</td>\n",
       "      <td>Neutral</td>\n",
       "      <td>True</td>\n",
       "    </tr>\n",
       "    <tr>\n",
       "      <th>19</th>\n",
       "      <td>It was an average day, nothing really stood out.</td>\n",
       "      <td>Neutral</td>\n",
       "      <td>Neutral</td>\n",
       "      <td>True</td>\n",
       "    </tr>\n",
       "    <tr>\n",
       "      <th>20</th>\n",
       "      <td>I have a meeting tomorrow at noon.</td>\n",
       "      <td>Neutral</td>\n",
       "      <td>Neutral</td>\n",
       "      <td>True</td>\n",
       "    </tr>\n",
       "    <tr>\n",
       "      <th>21</th>\n",
       "      <td>I don’t understand why they would do something...</td>\n",
       "      <td>Confusion</td>\n",
       "      <td>Neutral</td>\n",
       "      <td>False</td>\n",
       "    </tr>\n",
       "    <tr>\n",
       "      <th>22</th>\n",
       "      <td>Everything seemed fine, but then they just sto...</td>\n",
       "      <td>Confusion</td>\n",
       "      <td>Neutral</td>\n",
       "      <td>False</td>\n",
       "    </tr>\n",
       "    <tr>\n",
       "      <th>23</th>\n",
       "      <td>I keep going over what happened, but it just d...</td>\n",
       "      <td>Confusion</td>\n",
       "      <td>Neutral</td>\n",
       "      <td>False</td>\n",
       "    </tr>\n",
       "  </tbody>\n",
       "</table>\n",
       "</div>"
      ],
      "text/plain": [
       "                                                 Text    Emotion  \\\n",
       "0   I've been feeling really good lately, like eve...      Happy   \n",
       "1   I finally got the job I always wanted, and I c...      Happy   \n",
       "2   Spending time with my family this weekend was ...      Happy   \n",
       "3   I try to stay positive, but some days it just ...    Sadness   \n",
       "4   Ever since they left, it feels like a part of ...    Sadness   \n",
       "5   I keep thinking about all the mistakes I’ve ma...    Sadness   \n",
       "6   I can't believe they betrayed my trust like that!      Anger   \n",
       "7   Every time I try to explain myself, no one lis...      Anger   \n",
       "8   I did everything right, and yet I’m the one wh...      Anger   \n",
       "9   I keep having this sinking feeling that someth...       Fear   \n",
       "10  Every time I close my eyes, I see the accident...       Fear   \n",
       "11     I don't feel safe going outside alone anymore.       Fear   \n",
       "12  I never expected them to throw me a surprise p...   Surprise   \n",
       "13  Wait, you’re telling me they actually forgave ...   Surprise   \n",
       "14  I just got a call that I won the scholarship. ...   Surprise   \n",
       "15  The way they treated that poor animal made me ...    Disgust   \n",
       "16  I can't stand being around people who manipula...    Disgust   \n",
       "17  That place was so filthy, I felt like I needed...    Disgust   \n",
       "18  I went to the grocery store and picked up some...    Neutral   \n",
       "19   It was an average day, nothing really stood out.    Neutral   \n",
       "20                 I have a meeting tomorrow at noon.    Neutral   \n",
       "21  I don’t understand why they would do something...  Confusion   \n",
       "22  Everything seemed fine, but then they just sto...  Confusion   \n",
       "23  I keep going over what happened, but it just d...  Confusion   \n",
       "\n",
       "   predicted_emotion  correct  \n",
       "0            Neutral    False  \n",
       "1              Happy     True  \n",
       "2              Happy     True  \n",
       "3            Neutral    False  \n",
       "4            Neutral    False  \n",
       "5            Neutral    False  \n",
       "6           Surprise    False  \n",
       "7              Anger     True  \n",
       "8            Sadness    False  \n",
       "9            Sadness    False  \n",
       "10           Neutral    False  \n",
       "11           Neutral    False  \n",
       "12          Surprise     True  \n",
       "13           Neutral    False  \n",
       "14          Surprise     True  \n",
       "15           Neutral    False  \n",
       "16             Anger    False  \n",
       "17           Disgust     True  \n",
       "18           Neutral     True  \n",
       "19           Neutral     True  \n",
       "20           Neutral     True  \n",
       "21           Neutral    False  \n",
       "22           Neutral    False  \n",
       "23           Neutral    False  "
      ]
     },
     "execution_count": 107,
     "metadata": {},
     "output_type": "execute_result"
    }
   ],
   "source": [
    "df_data"
   ]
  }
 ],
 "metadata": {
  "kernelspec": {
   "display_name": "whisperx",
   "language": "python",
   "name": "python3"
  },
  "language_info": {
   "codemirror_mode": {
    "name": "ipython",
    "version": 3
   },
   "file_extension": ".py",
   "mimetype": "text/x-python",
   "name": "python",
   "nbconvert_exporter": "python",
   "pygments_lexer": "ipython3",
   "version": "3.10.16"
  }
 },
 "nbformat": 4,
 "nbformat_minor": 2
}
