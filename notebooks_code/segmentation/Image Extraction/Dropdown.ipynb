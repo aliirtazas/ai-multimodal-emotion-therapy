{
 "cells": [
  {
   "cell_type": "code",
   "execution_count": 10,
   "metadata": {},
   "outputs": [],
   "source": [
    "import ipywidgets as widgets\n",
    "from IPython.display import display"
   ]
  },
  {
   "cell_type": "code",
   "execution_count": 11,
   "metadata": {},
   "outputs": [
    {
     "data": {
      "application/vnd.jupyter.widget-view+json": {
       "model_id": "ccac18597f47486c9391d34bae8a49c6",
       "version_major": 2,
       "version_minor": 0
      },
      "text/plain": [
       "Dropdown(description='Video View:', options=('Gallery View', 'Speaker View'), style=DescriptionStyle(descripti…"
      ]
     },
     "metadata": {},
     "output_type": "display_data"
    },
    {
     "data": {
      "application/vnd.jupyter.widget-view+json": {
       "model_id": "64a1693bf9414e129122bcc757a1acfb",
       "version_major": 2,
       "version_minor": 0
      },
      "text/plain": [
       "Dropdown(description='Face Option:', options=(), style=DescriptionStyle(description_width='initial'), value=No…"
      ]
     },
     "metadata": {},
     "output_type": "display_data"
    }
   ],
   "source": [
    "# Dropdown for main video view type\n",
    "view_dropdown = widgets.Dropdown(\n",
    "    options=['Gallery View', 'Speaker View'],\n",
    "    description='Video View:',\n",
    "    style={'description_width': 'initial'}\n",
    ")\n",
    "\n",
    "# Dynamic dropdown that updates based on the main view selection\n",
    "option_dropdown = widgets.Dropdown(\n",
    "    options=[],\n",
    "    description='Face Option:',\n",
    "    style={'description_width': 'initial'}\n",
    ")\n",
    "\n",
    "# Update the second dropdown based on the first\n",
    "def update_option_dropdown(change):\n",
    "    if change['new'] == 'Gallery View':\n",
    "        option_dropdown.options = ['Left', 'Right']\n",
    "    elif change['new'] == 'Speaker View':\n",
    "        option_dropdown.options = ['Large', 'Small']\n",
    "\n",
    "view_dropdown.observe(update_option_dropdown, names='value')\n",
    "\n",
    "# Display both dropdowns\n",
    "display(view_dropdown, option_dropdown)"
   ]
  }
 ],
 "metadata": {
  "language_info": {
   "name": "python"
  }
 },
 "nbformat": 4,
 "nbformat_minor": 2
}
